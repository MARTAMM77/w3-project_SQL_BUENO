{
 "cells": [
  {
   "cell_type": "code",
   "execution_count": null,
   "id": "8c0f7fa0",
   "metadata": {},
   "outputs": [],
   "source": [
    "# TABLA AEREOPUERTOS COORDENADAS. importante\n",
    "import requests\n",
    "\n",
    "url = \"https://travelpayouts-travelpayouts-flight-data-v1.p.rapidapi.com/data/en-GB/airports.json\"\n",
    "\n",
    "headers = {\n",
    "\t\"X-Access-Token\": \"1560a7d76b628bc6aa5b25d0d1857c49\",\n",
    "\t\"X-RapidAPI-Key\": \"db2c5c2c95msh4022aaabd35a24ep17fdcejsnbbdc6f431ee2\",\n",
    "\t\"X-RapidAPI-Host\": \"travelpayouts-travelpayouts-flight-data-v1.p.rapidapi.com\"\n",
    "}\n",
    "\n",
    "response = requests.get(url, headers=headers)\n",
    "\n",
    "result=response.json()\n",
    "#print (result.keys())\n",
    "#print(result)\n",
    "#Creamos un diccionario en blanco para ir rellenandolo con los elementos:\n",
    "airports_list=[]\n",
    "  \n",
    "for element in result:\n",
    "    airport={}\n",
    "    if element[\"iata_type\"]==\"airport\":\n",
    "        airport['airport_name']=element[\"name\"]\n",
    "        airport['airport_code']=element[\"code\"]\n",
    "        #airport['time_zone']=element[\"time_zone\"]\n",
    "        airport['country_code']=element[\"country_code\"]\n",
    "        airport['city_code']=element[\"city_code\"]\n",
    "        airport['lat']=element[\"coordinates\"]['lat']\n",
    "        airport['lon']=element[\"coordinates\"]['lon']\n",
    "        airport['iata_type']=element[\"iata_type\"]\n",
    "        #print (element[\"iata_type\"])\n",
    "        airports_list.append(airport)\n",
    "    \n",
    "print(airports_list)\n"
   ]
  },
  {
   "cell_type": "code",
   "execution_count": null,
   "id": "c122e953",
   "metadata": {},
   "outputs": [],
   "source": [
    "import pandas as pd\n",
    "airports_list = pd.DataFrame(airports_list)\n",
    "airports_list"
   ]
  },
  {
   "cell_type": "code",
   "execution_count": null,
   "id": "c5e1811a",
   "metadata": {},
   "outputs": [],
   "source": [
    "# CSV airports_list\n",
    "import pandas as pd\n",
    "\n",
    "# Guardar el DataFrame en un archivo CSV\n",
    "airports_list.to_csv('airports_list.csv', index=False, encoding='utf-8')"
   ]
  },
  {
   "cell_type": "code",
   "execution_count": null,
   "id": "0705a9c7",
   "metadata": {},
   "outputs": [],
   "source": [
    "# TABLA CIUDADES \n",
    "import requests\n",
    "import pandas as pd\n",
    "\n",
    "url = \"https://travelpayouts-travelpayouts-flight-data-v1.p.rapidapi.com/data/en-GB/cities.json\"\n",
    "\n",
    "headers = {\n",
    "    \"X-Access-Token\": \"1560a7d76b628bc6aa5b25d0d1857c49\",\n",
    "    \"X-RapidAPI-Key\": \"db2c5c2c95msh4022aaabd35a24ep17fdcejsnbbdc6f431ee2\",\n",
    "    \"X-RapidAPI-Host\": \"travelpayouts-travelpayouts-flight-data-v1.p.rapidapi.com\"\n",
    "}\n",
    "\n",
    "response = requests.get(url, headers=headers)\n",
    "\n",
    "result = response.json()\n",
    "#print(result)\n",
    "city_list = []\n",
    "\n",
    "for element in result:\n",
    "    city = {}\n",
    "    city['city_name'] = element[\"name_translations\"][\"en\"]\n",
    "    city['city_code'] = element[\"code\"]\n",
    "    city['country_code'] = element[\"country_code\"]\n",
    "    city_list.append(city)\n",
    "\n",
    "print(city_list)\n",
    "\n",
    "\n"
   ]
  },
  {
   "cell_type": "code",
   "execution_count": null,
   "id": "61abbfab",
   "metadata": {},
   "outputs": [],
   "source": [
    "city_list = pd.DataFrame(city_list)\n",
    "city_list"
   ]
  },
  {
   "cell_type": "code",
   "execution_count": null,
   "id": "4d911b1d",
   "metadata": {},
   "outputs": [],
   "source": [
    "# CSV city_list\n",
    "import pandas as pd\n",
    "\n",
    "# Guardar el DataFrame en un archivo CSV\n",
    "city_list.to_csv('city_list.csv', index=False, encoding='utf-8')\n"
   ]
  },
  {
   "cell_type": "code",
   "execution_count": null,
   "id": "8b0c97f6",
   "metadata": {},
   "outputs": [],
   "source": [
    "# TABLA NOMBRE PAÍS Y CÓDIGO\n",
    "import requests\n",
    "\n",
    "url = \"https://travelpayouts-travelpayouts-flight-data-v1.p.rapidapi.com/data/en-GB/countries.json\"\n",
    "\n",
    "headers = {\n",
    "\t\"X-Access-Token\": \"1560a7d76b628bc6aa5b25d0d1857c49\",\n",
    "\t\"X-RapidAPI-Key\": \"db2c5c2c95msh4022aaabd35a24ep17fdcejsnbbdc6f431ee2\",\n",
    "\t\"X-RapidAPI-Host\": \"travelpayouts-travelpayouts-flight-data-v1.p.rapidapi.com\"\n",
    "}\n",
    "\n",
    "response = requests.get(url, headers=headers)\n",
    "#result = response.json()\n",
    "print(result)\n",
    "\n",
    "#print(response.json())\n",
    "country_list = []\n",
    "\n",
    "for element in result:\n",
    "    country = {}\n",
    "    country['country_name'] = element[\"name_translations\"][\"en\"]\n",
    "    country['country_code'] = element[\"code\"]\n",
    "    country_list.append(country)\n",
    "\n",
    "print(country_list)\n",
    "\n"
   ]
  },
  {
   "cell_type": "code",
   "execution_count": null,
   "id": "a0eaba34",
   "metadata": {},
   "outputs": [],
   "source": [
    "import pandas as pd\n",
    "country_list = pd.DataFrame(country_list)\n",
    "country_list"
   ]
  },
  {
   "cell_type": "code",
   "execution_count": null,
   "id": "655320b8",
   "metadata": {},
   "outputs": [],
   "source": [
    "# CSV country_list\n",
    "\n",
    "# Guardar el DataFrame en un archivo CSV\n",
    "country_list.to_csv('country_list.csv', index=False, encoding='utf-8')"
   ]
  },
  {
   "cell_type": "code",
   "execution_count": null,
   "id": "7d9727e5",
   "metadata": {},
   "outputs": [],
   "source": [
    "# TABLA DE FECHAS\n",
    "from datetime import datetime, timedelta\n",
    "\n",
    "# Fecha de inicio y fin\n",
    "fecha_inicio = datetime(2023, 9, 8)\n",
    "fecha_fin = datetime(2024, 12, 31)\n",
    "\n",
    "# Lista para almacenar las fechas\n",
    "date = []\n",
    "\n",
    "# Bucle para generar las fechas\n",
    "while fecha_inicio <= fecha_fin:\n",
    "    fecha_str = fecha_inicio.strftime(\"%Y-%m-%d\")\n",
    "    date.append(fecha_str)\n",
    "    fecha_inicio += timedelta(days=1)\n",
    "\n",
    "# Imprimir la lista de fechas\n",
    "print(date)\n"
   ]
  },
  {
   "cell_type": "code",
   "execution_count": null,
   "id": "85e84f9c",
   "metadata": {},
   "outputs": [],
   "source": [
    "import pandas as pd\n",
    "\n",
    "# Tu lista de fechas\n",
    "fechas = ['2023-09-08', '2023-09-09', '2023-09-10', '2023-09-11', '2023-09-12', '2023-09-13', '2023-09-14', '2023-09-15', '2023-09-16', '2023-09-17', '2023-09-18', '2023-09-19', '2023-09-20', '2023-09-21', '2023-09-22', '2023-09-23', '2023-09-24', '2023-09-25', '2023-09-26', '2023-09-27', '2023-09-28', '2023-09-29', '2023-09-30', '2023-10-01', '2023-10-02', '2023-10-03', '2023-10-04', '2023-10-05', '2023-10-06', '2023-10-07', '2023-10-08', '2023-10-09', '2023-10-10', '2023-10-11', '2023-10-12', '2023-10-13', '2023-10-14', '2023-10-15', '2023-10-16', '2023-10-17', '2023-10-18', '2023-10-19', '2023-10-20', '2023-10-21', '2023-10-22', '2023-10-23', '2023-10-24', '2023-10-25', '2023-10-26', '2023-10-27', '2023-10-28', '2023-10-29', '2023-10-30', '2023-10-31', '2023-11-01', '2023-11-02', '2023-11-03', '2023-11-04', '2023-11-05', '2023-11-06', '2023-11-07', '2023-11-08', '2023-11-09', '2023-11-10', '2023-11-11', '2023-11-12', '2023-11-13', '2023-11-14', '2023-11-15', '2023-11-16', '2023-11-17', '2023-11-18', '2023-11-19', '2023-11-20', '2023-11-21', '2023-11-22', '2023-11-23', '2023-11-24', '2023-11-25', '2023-11-26', '2023-11-27', '2023-11-28', '2023-11-29', '2023-11-30', '2023-12-01', '2023-12-02', '2023-12-03', '2023-12-04', '2023-12-05', '2023-12-06', '2023-12-07', '2023-12-08', '2023-12-09', '2023-12-10', '2023-12-11', '2023-12-12', '2023-12-13', '2023-12-14', '2023-12-15', '2023-12-16', '2023-12-17', '2023-12-18', '2023-12-19', '2023-12-20', '2023-12-21', '2023-12-22', '2023-12-23', '2023-12-24', '2023-12-25', '2023-12-26', '2023-12-27', '2023-12-28', '2023-12-29', '2023-12-30', '2023-12-31', '2024-01-01', '2024-01-02', '2024-01-03', '2024-01-04', '2024-01-05', '2024-01-06', '2024-01-07', '2024-01-08', '2024-01-09', '2024-01-10', '2024-01-11', '2024-01-12', '2024-01-13', '2024-01-14', '2024-01-15', '2024-01-16', '2024-01-17', '2024-01-18', '2024-01-19', '2024-01-20', '2024-01-21', '2024-01-22', '2024-01-23', '2024-01-24', '2024-01-25', '2024-01-26', '2024-01-27', '2024-01-28', '2024-01-29', '2024-01-30', '2024-01-31', '2024-02-01', '2024-02-02', '2024-02-03', '2024-02-04', '2024-02-05', '2024-02-06', '2024-02-07', '2024-02-08', '2024-02-09', '2024-02-10', '2024-02-11', '2024-02-12', '2024-02-13', '2024-02-14', '2024-02-15', '2024-02-16', '2024-02-17', '2024-02-18', '2024-02-19', '2024-02-20', '2024-02-21', '2024-02-22', '2024-02-23', '2024-02-24', '2024-02-25', '2024-02-26', '2024-02-27', '2024-02-28', '2024-02-29', '2024-03-01', '2024-03-02', '2024-03-03', '2024-03-04', '2024-03-05', '2024-03-06', '2024-03-07', '2024-03-08', '2024-03-09', '2024-03-10', '2024-03-11', '2024-03-12', '2024-03-13', '2024-03-14', '2024-03-15', '2024-03-16', '2024-03-17', '2024-03-18', '2024-03-19', '2024-03-20', '2024-03-21', '2024-03-22', '2024-03-23', '2024-03-24', '2024-03-25', '2024-03-26', '2024-03-27', '2024-03-28', '2024-03-29', '2024-03-30', '2024-03-31', '2024-04-01', '2024-04-02', '2024-04-03', '2024-04-04', '2024-04-05', '2024-04-06', '2024-04-07', '2024-04-08', '2024-04-09', '2024-04-10', '2024-04-11', '2024-04-12', '2024-04-13', '2024-04-14', '2024-04-15', '2024-04-16', '2024-04-17', '2024-04-18', '2024-04-19', '2024-04-20', '2024-04-21', '2024-04-22', '2024-04-23', '2024-04-24', '2024-04-25', '2024-04-26', '2024-04-27', '2024-04-28', '2024-04-29', '2024-04-30', '2024-05-01', '2024-05-02', '2024-05-03', '2024-05-04', '2024-05-05', '2024-05-06', '2024-05-07', '2024-05-08', '2024-05-09', '2024-05-10', '2024-05-11', '2024-05-12', '2024-05-13', '2024-05-14', '2024-05-15', '2024-05-16', '2024-05-17', '2024-05-18', '2024-05-19', '2024-05-20', '2024-05-21', '2024-05-22', '2024-05-23', '2024-05-24', '2024-05-25', '2024-05-26', '2024-05-27', '2024-05-28', '2024-05-29', '2024-05-30', '2024-05-31', '2024-06-01', '2024-06-02', '2024-06-03', '2024-06-04', '2024-06-05', '2024-06-06', '2024-06-07', '2024-06-08', '2024-06-09', '2024-06-10', '2024-06-11', '2024-06-12', '2024-06-13', '2024-06-14', '2024-06-15', '2024-06-16', '2024-06-17', '2024-06-18', '2024-06-19', '2024-06-20', '2024-06-21', '2024-06-22', '2024-06-23', '2024-06-24', '2024-06-25', '2024-06-26', '2024-06-27', '2024-06-28', '2024-06-29', '2024-06-30', '2024-07-01', '2024-07-02', '2024-07-03', '2024-07-04', '2024-07-05', '2024-07-06', '2024-07-07', '2024-07-08', '2024-07-09', '2024-07-10', '2024-07-11', '2024-07-12', '2024-07-13', '2024-07-14', '2024-07-15', '2024-07-16', '2024-07-17', '2024-07-18', '2024-07-19', '2024-07-20', '2024-07-21', '2024-07-22', '2024-07-23', '2024-07-24', '2024-07-25', '2024-07-26', '2024-07-27', '2024-07-28', '2024-07-29', '2024-07-30', '2024-07-31', '2024-08-01', '2024-08-02', '2024-08-03', '2024-08-04', '2024-08-05', '2024-08-06', '2024-08-07', '2024-08-08', '2024-08-09', '2024-08-10', '2024-08-11', '2024-08-12', '2024-08-13', '2024-08-14', '2024-08-15', '2024-08-16', '2024-08-17', '2024-08-18', '2024-08-19', '2024-08-20', '2024-08-21', '2024-08-22', '2024-08-23', '2024-08-24', '2024-08-25', '2024-08-26', '2024-08-27', '2024-08-28', '2024-08-29', '2024-08-30', '2024-08-31', '2024-09-01', '2024-09-02', '2024-09-03', '2024-09-04', '2024-09-05', '2024-09-06', '2024-09-07', '2024-09-08', '2024-09-09', '2024-09-10', '2024-09-11', '2024-09-12', '2024-09-13', '2024-09-14', '2024-09-15', '2024-09-16', '2024-09-17', '2024-09-18', '2024-09-19', '2024-09-20', '2024-09-21', '2024-09-22', '2024-09-23', '2024-09-24', '2024-09-25', '2024-09-26', '2024-09-27', '2024-09-28', '2024-09-29', '2024-09-30', '2024-10-01', '2024-10-02', '2024-10-03', '2024-10-04', '2024-10-05', '2024-10-06', '2024-10-07', '2024-10-08', '2024-10-09', '2024-10-10', '2024-10-11', '2024-10-12', '2024-10-13', '2024-10-14', '2024-10-15', '2024-10-16', '2024-10-17', '2024-10-18', '2024-10-19', '2024-10-20', '2024-10-21', '2024-10-22', '2024-10-23', '2024-10-24', '2024-10-25', '2024-10-26', '2024-10-27', '2024-10-28', '2024-10-29', '2024-10-30', '2024-10-31', '2024-11-01', '2024-11-02', '2024-11-03', '2024-11-04', '2024-11-05', '2024-11-06', '2024-11-07', '2024-11-08', '2024-11-09', '2024-11-10', '2024-11-11', '2024-11-12', '2024-11-13', '2024-11-14', '2024-11-15', '2024-11-16', '2024-11-17', '2024-11-18', '2024-11-19', '2024-11-20', '2024-11-21', '2024-11-22', '2024-11-23', '2024-11-24', '2024-11-25', '2024-11-26', '2024-11-27', '2024-11-28', '2024-11-29', '2024-11-30', '2024-12-01', '2024-12-02', '2024-12-03', '2024-12-04', '2024-12-05', '2024-12-06', '2024-12-07', '2024-12-08', '2024-12-09', '2024-12-10', '2024-12-11', '2024-12-12', '2024-12-13', '2024-12-14', '2024-12-15', '2024-12-16', '2024-12-17', '2024-12-18', '2024-12-19', '2024-12-20', '2024-12-21', '2024-12-22', '2024-12-23', '2024-12-24', '2024-12-25', '2024-12-26', '2024-12-27', '2024-12-28', '2024-12-29', '2024-12-30', '2024-12-31']\n",
    "\n",
    "# Crear un DataFrame 'date'\n",
    "date= pd.DataFrame({'date': fechas})\n",
    "\n",
    "# Mostrar el DataFrame resultante\n",
    "print(date)\n"
   ]
  },
  {
   "cell_type": "code",
   "execution_count": null,
   "id": "6531efc3",
   "metadata": {},
   "outputs": [],
   "source": [
    "# date.csv\n",
    "\n",
    "date.to_csv('date.csv', index=False, encoding='utf-8')"
   ]
  },
  {
   "cell_type": "code",
   "execution_count": null,
   "id": "cbf98124",
   "metadata": {},
   "outputs": [],
   "source": [
    "# TABLA AIRLINES\n",
    "import requests\n",
    "\n",
    "url = \"https://travelpayouts-travelpayouts-flight-data-v1.p.rapidapi.com/data/en-GB/airlines.json\"\n",
    "\n",
    "headers = {\n",
    "\t\"X-Access-Token\": \"1560a7d76b628bc6aa5b25d0d1857c49\",\n",
    "\t\"X-RapidAPI-Key\": \"db2c5c2c95msh4022aaabd35a24ep17fdcejsnbbdc6f431ee2\",\n",
    "\t\"X-RapidAPI-Host\": \"travelpayouts-travelpayouts-flight-data-v1.p.rapidapi.com\"\n",
    "}\n",
    "\n",
    "response = requests.get(url, headers=headers)\n",
    "\n",
    "result = response.json()\n",
    "#print(response.json())\n",
    "\n",
    "airlines_list = []\n",
    "\n",
    "for element in result:\n",
    "    airline = {}\n",
    "    airline['airline_name'] = element[\"name_translations\"][\"en\"]\n",
    "    airline['airline_code'] = element[\"code\"]\n",
    "    airline['lowcost'] = element['is_lowcost']\n",
    "    airlines_list.append(airline)\n",
    "\n",
    "print(airlines_list)\n"
   ]
  },
  {
   "cell_type": "code",
   "execution_count": null,
   "id": "62c5fdbd",
   "metadata": {},
   "outputs": [],
   "source": [
    "airlines_list = pd.DataFrame(airlines_list)"
   ]
  },
  {
   "cell_type": "code",
   "execution_count": null,
   "id": "ea6dba48",
   "metadata": {},
   "outputs": [],
   "source": [
    "airlines_list.head()"
   ]
  },
  {
   "cell_type": "code",
   "execution_count": null,
   "id": "7b5072c2",
   "metadata": {},
   "outputs": [],
   "source": [
    "# airlines_list.csv\n",
    "\n",
    "airlines_list.to_csv('airlines_list.csv', index=False, encoding='utf-8')"
   ]
  },
  {
   "cell_type": "code",
   "execution_count": null,
   "id": "61d25ec0",
   "metadata": {},
   "outputs": [],
   "source": [
    "# FLIGHT_LIST. LA MÁS IMPORTANTE\n",
    "import pandas as pd\n",
    "import requests\n",
    "from datetime import datetime, timedelta\n",
    "\n",
    "url = \"https://travelpayouts-travelpayouts-flight-data-v1.p.rapidapi.com/v1/prices/calendar\"\n",
    "querystring = {\"calendar_type\": \"departure_date\", \"origin\": \"MAD\", \"currency\": \"EUR\"}\n",
    "\n",
    "headers = {\n",
    "    \"X-Access-Token\": \"1560a7d76b628bc6aa5b25d0d1857c49\",\n",
    "    \"X-RapidAPI-Key\": \"db2c5c2c95msh4022aaabd35a24ep17fdcejsnbbdc6f431ee2\",\n",
    "    \"X-RapidAPI-Host\": \"travelpayouts-travelpayouts-flight-data-v1.p.rapidapi.com\"\n",
    "}\n",
    "\n",
    "flight_list = []\n",
    "\n",
    "start_date = \"2023-09-08\"  # Fecha de inicio\n",
    "end_date = \"2024-12-31\"    # Fecha de finalización\n",
    "\n",
    "current_date = start_date\n",
    "while current_date <= end_date:\n",
    "    querystring[\"depart_date\"] = current_date\n",
    "    response = requests.get(url, headers=headers, params=querystring)\n",
    "    result = response.json()\n",
    "    \n",
    "    for date, flight_data in result['data'].items():\n",
    "        flight = {}\n",
    "        flight['date'] = date\n",
    "        flight['origin'] = flight_data['origin']\n",
    "        flight['destination'] = flight_data['destination']\n",
    "        flight['airline_code'] = flight_data['airline']\n",
    "        flight['price(EUR)'] = flight_data['price']\n",
    "        flight['flight_number'] = flight_data['flight_number']\n",
    "        flight['transfers'] = flight_data['transfers']\n",
    "        flight_list.append(flight)\n",
    "    \n",
    "    # Avanza al siguiente día\n",
    "    current_date = (datetime.strptime(current_date, \"%Y-%m-%d\") + timedelta(days=1)).strftime(\"%Y-%m-%d\")\n",
    "\n",
    "# Ahora flight_list contendrá los vuelos para el rango de fechas especificado\n"
   ]
  },
  {
   "cell_type": "code",
   "execution_count": 1,
   "id": "ba361cdb",
   "metadata": {},
   "outputs": [],
   "source": [
    "import pandas as pd"
   ]
  },
  {
   "cell_type": "code",
   "execution_count": 2,
   "id": "16cc989c",
   "metadata": {},
   "outputs": [],
   "source": [
    "flight_list = pd.read_csv(r'csv\\flight_list.csv')"
   ]
  },
  {
   "cell_type": "code",
   "execution_count": 5,
   "id": "c3660fe3",
   "metadata": {},
   "outputs": [
    {
     "name": "stdout",
     "output_type": "stream",
     "text": [
      "<class 'pandas.core.frame.DataFrame'>\n",
      "RangeIndex: 172198 entries, 0 to 172197\n",
      "Data columns (total 1 columns):\n",
      " #   Column                                                                   Non-Null Count   Dtype \n",
      "---  ------                                                                   --------------   ----- \n",
      " 0   date;origin;destination;airline_code;price(EUR);flight_number;transfers  172198 non-null  object\n",
      "dtypes: object(1)\n",
      "memory usage: 1.3+ MB\n"
     ]
    }
   ],
   "source": [
    "flight_list.info()"
   ]
  },
  {
   "cell_type": "code",
   "execution_count": 3,
   "id": "80e5f243",
   "metadata": {
    "scrolled": true
   },
   "outputs": [
    {
     "data": {
      "text/html": [
       "<div>\n",
       "<style scoped>\n",
       "    .dataframe tbody tr th:only-of-type {\n",
       "        vertical-align: middle;\n",
       "    }\n",
       "\n",
       "    .dataframe tbody tr th {\n",
       "        vertical-align: top;\n",
       "    }\n",
       "\n",
       "    .dataframe thead th {\n",
       "        text-align: right;\n",
       "    }\n",
       "</style>\n",
       "<table border=\"1\" class=\"dataframe\">\n",
       "  <thead>\n",
       "    <tr style=\"text-align: right;\">\n",
       "      <th></th>\n",
       "      <th>date;origin;destination;airline_code;price(EUR);flight_number;transfers</th>\n",
       "    </tr>\n",
       "  </thead>\n",
       "  <tbody>\n",
       "    <tr>\n",
       "      <th>0</th>\n",
       "      <td>04/09/2023;MAD;IBZ;FR;62;5354;0</td>\n",
       "    </tr>\n",
       "    <tr>\n",
       "      <th>1</th>\n",
       "      <td>05/09/2023;MAD;IBZ;FR;41;2084;0</td>\n",
       "    </tr>\n",
       "    <tr>\n",
       "      <th>2</th>\n",
       "      <td>06/09/2023;MAD;OPO;FR;48;5482;0</td>\n",
       "    </tr>\n",
       "    <tr>\n",
       "      <th>3</th>\n",
       "      <td>07/09/2023;MAD;PMI;FR;36;2063;0</td>\n",
       "    </tr>\n",
       "    <tr>\n",
       "      <th>4</th>\n",
       "      <td>08/09/2023;MAD;IBZ;FR;43;2066;0</td>\n",
       "    </tr>\n",
       "  </tbody>\n",
       "</table>\n",
       "</div>"
      ],
      "text/plain": [
       "  date;origin;destination;airline_code;price(EUR);flight_number;transfers\n",
       "0                    04/09/2023;MAD;IBZ;FR;62;5354;0                     \n",
       "1                    05/09/2023;MAD;IBZ;FR;41;2084;0                     \n",
       "2                    06/09/2023;MAD;OPO;FR;48;5482;0                     \n",
       "3                    07/09/2023;MAD;PMI;FR;36;2063;0                     \n",
       "4                    08/09/2023;MAD;IBZ;FR;43;2066;0                     "
      ]
     },
     "execution_count": 3,
     "metadata": {},
     "output_type": "execute_result"
    }
   ],
   "source": [
    "flight_list.head()"
   ]
  },
  {
   "cell_type": "code",
   "execution_count": 6,
   "id": "9cb616fa",
   "metadata": {},
   "outputs": [
    {
     "data": {
      "text/html": [
       "<div>\n",
       "<style scoped>\n",
       "    .dataframe tbody tr th:only-of-type {\n",
       "        vertical-align: middle;\n",
       "    }\n",
       "\n",
       "    .dataframe tbody tr th {\n",
       "        vertical-align: top;\n",
       "    }\n",
       "\n",
       "    .dataframe thead th {\n",
       "        text-align: right;\n",
       "    }\n",
       "</style>\n",
       "<table border=\"1\" class=\"dataframe\">\n",
       "  <thead>\n",
       "    <tr style=\"text-align: right;\">\n",
       "      <th></th>\n",
       "      <th>date;origin;destination;airline_code;price(EUR);flight_number;transfers</th>\n",
       "      <th>date</th>\n",
       "      <th>origin</th>\n",
       "      <th>destination</th>\n",
       "      <th>airline_code</th>\n",
       "      <th>price(EUR)</th>\n",
       "      <th>flight_number</th>\n",
       "      <th>transfers</th>\n",
       "    </tr>\n",
       "  </thead>\n",
       "  <tbody>\n",
       "    <tr>\n",
       "      <th>0</th>\n",
       "      <td>04/09/2023;MAD;IBZ;FR;62;5354;0</td>\n",
       "      <td>04/09/2023</td>\n",
       "      <td>MAD</td>\n",
       "      <td>IBZ</td>\n",
       "      <td>FR</td>\n",
       "      <td>62</td>\n",
       "      <td>5354</td>\n",
       "      <td>0</td>\n",
       "    </tr>\n",
       "    <tr>\n",
       "      <th>1</th>\n",
       "      <td>05/09/2023;MAD;IBZ;FR;41;2084;0</td>\n",
       "      <td>05/09/2023</td>\n",
       "      <td>MAD</td>\n",
       "      <td>IBZ</td>\n",
       "      <td>FR</td>\n",
       "      <td>41</td>\n",
       "      <td>2084</td>\n",
       "      <td>0</td>\n",
       "    </tr>\n",
       "    <tr>\n",
       "      <th>2</th>\n",
       "      <td>06/09/2023;MAD;OPO;FR;48;5482;0</td>\n",
       "      <td>06/09/2023</td>\n",
       "      <td>MAD</td>\n",
       "      <td>OPO</td>\n",
       "      <td>FR</td>\n",
       "      <td>48</td>\n",
       "      <td>5482</td>\n",
       "      <td>0</td>\n",
       "    </tr>\n",
       "    <tr>\n",
       "      <th>3</th>\n",
       "      <td>07/09/2023;MAD;PMI;FR;36;2063;0</td>\n",
       "      <td>07/09/2023</td>\n",
       "      <td>MAD</td>\n",
       "      <td>PMI</td>\n",
       "      <td>FR</td>\n",
       "      <td>36</td>\n",
       "      <td>2063</td>\n",
       "      <td>0</td>\n",
       "    </tr>\n",
       "    <tr>\n",
       "      <th>4</th>\n",
       "      <td>08/09/2023;MAD;IBZ;FR;43;2066;0</td>\n",
       "      <td>08/09/2023</td>\n",
       "      <td>MAD</td>\n",
       "      <td>IBZ</td>\n",
       "      <td>FR</td>\n",
       "      <td>43</td>\n",
       "      <td>2066</td>\n",
       "      <td>0</td>\n",
       "    </tr>\n",
       "  </tbody>\n",
       "</table>\n",
       "</div>"
      ],
      "text/plain": [
       "  date;origin;destination;airline_code;price(EUR);flight_number;transfers  \\\n",
       "0                    04/09/2023;MAD;IBZ;FR;62;5354;0                        \n",
       "1                    05/09/2023;MAD;IBZ;FR;41;2084;0                        \n",
       "2                    06/09/2023;MAD;OPO;FR;48;5482;0                        \n",
       "3                    07/09/2023;MAD;PMI;FR;36;2063;0                        \n",
       "4                    08/09/2023;MAD;IBZ;FR;43;2066;0                        \n",
       "\n",
       "         date origin destination airline_code price(EUR) flight_number  \\\n",
       "0  04/09/2023    MAD         IBZ           FR         62          5354   \n",
       "1  05/09/2023    MAD         IBZ           FR         41          2084   \n",
       "2  06/09/2023    MAD         OPO           FR         48          5482   \n",
       "3  07/09/2023    MAD         PMI           FR         36          2063   \n",
       "4  08/09/2023    MAD         IBZ           FR         43          2066   \n",
       "\n",
       "  transfers  \n",
       "0         0  \n",
       "1         0  \n",
       "2         0  \n",
       "3         0  \n",
       "4         0  "
      ]
     },
     "execution_count": 6,
     "metadata": {},
     "output_type": "execute_result"
    }
   ],
   "source": [
    "# Suponiendo que ya tienes un DataFrame llamado df con la columna vuelos_hora_fecha\n",
    "# Puedes dividir esta columna en tres columnas separadas\n",
    "flight_list[['date', 'origin', 'destination', 'airline_code', 'price(EUR)', 'flight_number', 'transfers']] = flight_list['date;origin;destination;airline_code;price(EUR);flight_number;transfers'].str.split(';', expand=True)\n",
    "\n",
    "# Ahora, df contendrá las tres columnas deseadas: vuelos, hora, y fecha\n",
    "flight_list.head()"
   ]
  },
  {
   "cell_type": "code",
   "execution_count": 29,
   "id": "8fc582f1",
   "metadata": {},
   "outputs": [
    {
     "data": {
      "text/plain": [
       "181"
      ]
     },
     "execution_count": 29,
     "metadata": {},
     "output_type": "execute_result"
    }
   ],
   "source": [
    "\n",
    "flight_list.drop_duplicates(subset=['flight_number'], inplace=True)\n",
    "\n",
    "# Ahora, puedes verificar la longitud de la columna sin duplicados\n",
    "len(flight_list['flight_number'])\n"
   ]
  },
  {
   "cell_type": "code",
   "execution_count": 30,
   "id": "ec0a91af",
   "metadata": {},
   "outputs": [
    {
     "data": {
      "text/plain": [
       "181"
      ]
     },
     "execution_count": 30,
     "metadata": {},
     "output_type": "execute_result"
    }
   ],
   "source": [
    "unique_flight_numbers = flight_list['flight_number'].unique()\n",
    "#print(unique_flight_numbers)\n",
    "len(unique_flight_numbers)"
   ]
  },
  {
   "cell_type": "code",
   "execution_count": 31,
   "id": "468e449c",
   "metadata": {},
   "outputs": [
    {
     "name": "stdout",
     "output_type": "stream",
     "text": [
      "<class 'pandas.core.frame.DataFrame'>\n",
      "Int64Index: 181 entries, 0 to 53592\n",
      "Data columns (total 8 columns):\n",
      " #   Column                                                                   Non-Null Count  Dtype \n",
      "---  ------                                                                   --------------  ----- \n",
      " 0   date;origin;destination;airline_code;price(EUR);flight_number;transfers  181 non-null    object\n",
      " 1   date                                                                     181 non-null    object\n",
      " 2   origin                                                                   181 non-null    object\n",
      " 3   destination                                                              181 non-null    object\n",
      " 4   airline_code                                                             181 non-null    object\n",
      " 5   price(EUR)                                                               181 non-null    object\n",
      " 6   flight_number                                                            181 non-null    object\n",
      " 7   transfers                                                                181 non-null    object\n",
      "dtypes: object(8)\n",
      "memory usage: 12.7+ KB\n"
     ]
    }
   ],
   "source": [
    "flight_list.info()"
   ]
  },
  {
   "cell_type": "code",
   "execution_count": 33,
   "id": "f68fcd68",
   "metadata": {},
   "outputs": [],
   "source": [
    "import pandas as pd\n",
    "flight_list = pd.DataFrame(flight_list)\n"
   ]
  },
  {
   "cell_type": "code",
   "execution_count": 34,
   "id": "3ab5c89b",
   "metadata": {},
   "outputs": [
    {
     "data": {
      "text/plain": [
       "<bound method NDFrame.head of       date;origin;destination;airline_code;price(EUR);flight_number;transfers  \\\n",
       "0                        04/09/2023;MAD;IBZ;FR;62;5354;0                        \n",
       "1                        05/09/2023;MAD;IBZ;FR;41;2084;0                        \n",
       "2                        06/09/2023;MAD;OPO;FR;48;5482;0                        \n",
       "3                        07/09/2023;MAD;PMI;FR;36;2063;0                        \n",
       "4                        08/09/2023;MAD;IBZ;FR;43;2066;0                        \n",
       "...                                                  ...                        \n",
       "352                      22/08/2024;MAD;PAR;IB;99;3426;0                        \n",
       "355                     25/08/2024;MAD;TCI;UX;260;9059;0                        \n",
       "356                     26/08/2024;MAD;ZRH;UX;157;1675;0                        \n",
       "357                      28/08/2024;MAD;UIO;UX;3617;39;1                        \n",
       "53592                    12/05/2024;MAD;LIS;NI;85;1017;0                        \n",
       "\n",
       "             date origin destination airline_code price(EUR) flight_number  \\\n",
       "0      04/09/2023    MAD         IBZ           FR         62          5354   \n",
       "1      05/09/2023    MAD         IBZ           FR         41          2084   \n",
       "2      06/09/2023    MAD         OPO           FR         48          5482   \n",
       "3      07/09/2023    MAD         PMI           FR         36          2063   \n",
       "4      08/09/2023    MAD         IBZ           FR         43          2066   \n",
       "...           ...    ...         ...          ...        ...           ...   \n",
       "352    22/08/2024    MAD         PAR           IB         99          3426   \n",
       "355    25/08/2024    MAD         TCI           UX        260          9059   \n",
       "356    26/08/2024    MAD         ZRH           UX        157          1675   \n",
       "357    28/08/2024    MAD         UIO           UX       3617            39   \n",
       "53592  12/05/2024    MAD         LIS           NI         85          1017   \n",
       "\n",
       "      transfers  \n",
       "0             0  \n",
       "1             0  \n",
       "2             0  \n",
       "3             0  \n",
       "4             0  \n",
       "...         ...  \n",
       "352           0  \n",
       "355           0  \n",
       "356           0  \n",
       "357           1  \n",
       "53592         0  \n",
       "\n",
       "[181 rows x 8 columns]>"
      ]
     },
     "execution_count": 34,
     "metadata": {},
     "output_type": "execute_result"
    }
   ],
   "source": [
    "flight_list = pd.DataFrame(flight_list)\n",
    "flight_list.head"
   ]
  },
  {
   "cell_type": "code",
   "execution_count": 35,
   "id": "984613ec",
   "metadata": {},
   "outputs": [],
   "source": [
    "\n",
    "flight_list.to_csv('flight_list.csv', index=False, encoding='utf-8')"
   ]
  },
  {
   "cell_type": "code",
   "execution_count": null,
   "id": "86bb7ade",
   "metadata": {},
   "outputs": [],
   "source": []
  }
 ],
 "metadata": {
  "kernelspec": {
   "display_name": "Python 3 (ipykernel)",
   "language": "python",
   "name": "python3"
  },
  "language_info": {
   "codemirror_mode": {
    "name": "ipython",
    "version": 3
   },
   "file_extension": ".py",
   "mimetype": "text/x-python",
   "name": "python",
   "nbconvert_exporter": "python",
   "pygments_lexer": "ipython3",
   "version": "3.10.9"
  }
 },
 "nbformat": 4,
 "nbformat_minor": 5
}
